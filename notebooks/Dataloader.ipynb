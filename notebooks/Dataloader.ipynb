{
 "cells": [
  {
   "cell_type": "code",
   "execution_count": 1,
   "id": "2bfa4482",
   "metadata": {},
   "outputs": [],
   "source": [
    "import pandas as pd\n"
   ]
  },
  {
   "cell_type": "code",
   "execution_count": 44,
   "id": "044fc62b",
   "metadata": {},
   "outputs": [],
   "source": [
    "df = pd.read_csv('/home/robotlab/projects/bimanual-infra/data/env_state_action_df_192.168.86.230.csv')"
   ]
  },
  {
   "cell_type": "code",
   "execution_count": 45,
   "id": "ff6b6ee9",
   "metadata": {},
   "outputs": [
    {
     "data": {
      "text/plain": [
       "Index(['created_timestamp', 'pose_aa', 'joint_angles', 'gripper_state',\n",
       "       'force_info', 'action_des_pose_aa', 'controller_ts', 'last_sent_ts'],\n",
       "      dtype='object')"
      ]
     },
     "execution_count": 45,
     "metadata": {},
     "output_type": "execute_result"
    }
   ],
   "source": [
    "df.keys()\n"
   ]
  },
  {
   "cell_type": "code",
   "execution_count": 132,
   "id": "6d88bee0",
   "metadata": {},
   "outputs": [
    {
     "data": {
      "text/plain": [
       "(1683828065.9130034, 1683828063.1581635)"
      ]
     },
     "execution_count": 132,
     "metadata": {},
     "output_type": "execute_result"
    }
   ],
   "source": [
    "df['created_timestamp'][1],df['created_timestamp'][0],"
   ]
  },
  {
   "cell_type": "code",
   "execution_count": 92,
   "id": "edd78493",
   "metadata": {},
   "outputs": [],
   "source": [
    "import numpy as np\n",
    "obs = np.array([k.strip(\"[\").strip(\"]\").split() for k in df['pose_aa'].to_numpy()], dtype=float)\n",
    "obs_prime = np.array(np.concatenate([obs[1:], np.expand_dims(obs[-1], axis=0)]), dtype=float)\n",
    "actions = np.array([k.strip(\"[\").strip(\"]\").split() for k in df['action_des_pose_aa'][1:].to_numpy()], dtype=float)\n",
    "\n",
    "# actions = np.concat"
   ]
  },
  {
   "cell_type": "code",
   "execution_count": 128,
   "id": "fb3d353e",
   "metadata": {},
   "outputs": [
    {
     "data": {
      "text/plain": [
       "array([[-8.400e-02,  1.318e+00,  3.945e+00, -6.270e+00,  3.000e-03,\n",
       "         1.200e-02],\n",
       "       [-2.700e-02,  3.300e-02,  3.270e-01,  0.000e+00, -1.000e-03,\n",
       "        -1.000e-03],\n",
       "       [ 0.000e+00, -4.500e-02,  3.800e-02,  0.000e+00,  0.000e+00,\n",
       "         0.000e+00],\n",
       "       ...,\n",
       "       [-4.000e-02,  8.200e-02,  8.600e-02,  1.000e-03,  0.000e+00,\n",
       "         0.000e+00],\n",
       "       [-4.300e-02,  7.500e-02,  5.500e-02,  0.000e+00, -1.000e-03,\n",
       "         0.000e+00],\n",
       "       [-3.700e-02,  1.300e-02,  3.900e-02, -1.000e-03,  0.000e+00,\n",
       "        -1.000e-03]])"
      ]
     },
     "execution_count": 128,
     "metadata": {},
     "output_type": "execute_result"
    }
   ],
   "source": [
    "obs[:-1] - obs[1:]\n"
   ]
  },
  {
   "cell_type": "code",
   "execution_count": 115,
   "id": "b98ae348",
   "metadata": {},
   "outputs": [
    {
     "data": {
      "text/plain": [
       "(array([ 2.06266e+02, -5.15000e-01,  4.71291e+02, -3.13700e+00,\n",
       "        -3.00000e-03, -1.00000e-02]),\n",
       " array([ 2.05934e+02, -1.24800e+00,  4.69291e+02,  3.12900e+00,\n",
       "        -1.00000e-03, -3.00000e-03]))"
      ]
     },
     "execution_count": 115,
     "metadata": {},
     "output_type": "execute_result"
    }
   ],
   "source": [
    "actions[12], obs_prime[12]"
   ]
  },
  {
   "cell_type": "code",
   "execution_count": 116,
   "id": "ba910337",
   "metadata": {},
   "outputs": [],
   "source": [
    "from scipy.spatial.transform import Rotation as R"
   ]
  },
  {
   "cell_type": "code",
   "execution_count": 123,
   "id": "344b0152",
   "metadata": {},
   "outputs": [
    {
     "name": "stdout",
     "output_type": "stream",
     "text": [
      "[-9.99991845e-01 -9.56319903e-04 -3.18773301e-03  2.28763818e-03]\n",
      "[ 9.99979673e-01 -3.19584427e-04 -9.58753281e-04  6.29548623e-03]\n"
     ]
    }
   ],
   "source": [
    "def print_quat(x):\n",
    "    q = R.from_rotvec(x).as_quat()\n",
    "    print(q)\n",
    "    \n",
    "    \n",
    "print_quat(actions[12][3:])\n",
    "print_quat(obs_prime[12][3:])"
   ]
  },
  {
   "cell_type": "code",
   "execution_count": 124,
   "id": "47d210ad",
   "metadata": {},
   "outputs": [
    {
     "data": {
      "text/plain": [
       "array([[ 1.330e-01,  1.290e+00,  2.000e+00, -6.271e+00,  2.000e-03,\n",
       "         6.000e-03],\n",
       "       [ 1.060e-01,  1.323e+00,  2.000e+00, -6.271e+00,  1.000e-03,\n",
       "         5.000e-03],\n",
       "       [ 1.060e-01,  1.278e+00,  2.000e+00, -6.271e+00,  1.000e-03,\n",
       "         5.000e-03],\n",
       "       ...,\n",
       "       [ 2.000e+00, -2.000e+00,  2.000e+00,  8.000e-03,  2.900e-02,\n",
       "         3.000e-03],\n",
       "       [ 2.000e+00, -2.000e+00,  2.000e+00,  1.000e-02,  3.000e-02,\n",
       "         0.000e+00],\n",
       "       [ 2.000e+00, -2.000e+00,  2.000e+00,  1.400e-02,  3.400e-02,\n",
       "        -4.000e-03]])"
      ]
     },
     "execution_count": 124,
     "metadata": {},
     "output_type": "execute_result"
    }
   ],
   "source": [
    "np.array([actions[i] - obs_prime[i] for i in range(len(actions))])"
   ]
  },
  {
   "cell_type": "code",
   "execution_count": null,
   "id": "3c163918",
   "metadata": {},
   "outputs": [],
   "source": []
  },
  {
   "cell_type": "code",
   "execution_count": 80,
   "id": "f2b51c9c",
   "metadata": {},
   "outputs": [
    {
     "data": {
      "text/plain": [
       "array([ 2.05783e+02,  2.80000e-02,  4.73922e+02, -3.14100e+00,\n",
       "        1.00000e-03,  6.00000e-03])"
      ]
     },
     "execution_count": 80,
     "metadata": {},
     "output_type": "execute_result"
    }
   ],
   "source": [
    "obs[0]"
   ]
  },
  {
   "cell_type": "code",
   "execution_count": 62,
   "id": "57b1912d",
   "metadata": {},
   "outputs": [
    {
     "data": {
      "text/plain": [
       "(311, 310)"
      ]
     },
     "execution_count": 62,
     "metadata": {},
     "output_type": "execute_result"
    }
   ],
   "source": [
    "len(obs), len(obs_prime)"
   ]
  },
  {
   "cell_type": "code",
   "execution_count": null,
   "id": "98829052",
   "metadata": {},
   "outputs": [],
   "source": []
  },
  {
   "cell_type": "code",
   "execution_count": 49,
   "id": "b6aca563",
   "metadata": {},
   "outputs": [
    {
     "data": {
      "text/plain": [
       "0      [205.783   0.028 473.922  -3.141   0.001   0.006]\n",
       "1      [205.867  -1.29  469.977   3.129  -0.002  -0.006]\n",
       "2      [205.894  -1.323 469.65    3.129  -0.001  -0.005]\n",
       "3      [205.894  -1.278 469.612   3.129  -0.001  -0.005]\n",
       "4      [205.893  -1.268 469.627   3.129  -0.001  -0.005]\n",
       "                             ...                        \n",
       "306    [219.881 -15.15  412.994  -3.117   0.225  -0.036]\n",
       "307    [219.924 -15.179 412.896  -3.118   0.226  -0.035]\n",
       "308    [219.964 -15.261 412.81   -3.119   0.226  -0.035]\n",
       "309    [220.007 -15.336 412.755  -3.119   0.227  -0.035]\n",
       "310    [220.044 -15.349 412.716  -3.118   0.227  -0.034]\n",
       "Name: pose_aa, Length: 311, dtype: object"
      ]
     },
     "execution_count": 49,
     "metadata": {},
     "output_type": "execute_result"
    }
   ],
   "source": [
    "df['pose_aa']"
   ]
  },
  {
   "cell_type": "code",
   "execution_count": 26,
   "id": "8849fafd",
   "metadata": {},
   "outputs": [
    {
     "name": "stderr",
     "output_type": "stream",
     "text": [
      "/tmp/ipykernel_1187408/749999945.py:1: DeprecationWarning: string or file could not be read to its end due to unmatched data; this will raise a ValueError in the future.\n",
      "  numpy_array = np.array([np.fromstring(elem, dtype=float, sep=' ') for elem in x])\n"
     ]
    }
   ],
   "source": [
    "numpy_array = np.array([np.fromstring(elem, dtype=float, sep=' ') for elem in x])\n"
   ]
  },
  {
   "cell_type": "code",
   "execution_count": 27,
   "id": "136f8e2d",
   "metadata": {},
   "outputs": [
    {
     "name": "stderr",
     "output_type": "stream",
     "text": [
      "/tmp/ipykernel_1187408/1824817947.py:1: DeprecationWarning: string or file could not be read to its end due to unmatched data; this will raise a ValueError in the future.\n",
      "  [np.fromstring(elem, dtype=float, sep=' ') for elem in x]\n"
     ]
    },
    {
     "data": {
      "text/plain": [
       "[array([], dtype=float64),\n",
       " array([], dtype=float64),\n",
       " array([], dtype=float64),\n",
       " array([], dtype=float64),\n",
       " array([], dtype=float64),\n",
       " array([], dtype=float64),\n",
       " array([], dtype=float64),\n",
       " array([], dtype=float64),\n",
       " array([], dtype=float64),\n",
       " array([], dtype=float64),\n",
       " array([], dtype=float64),\n",
       " array([], dtype=float64),\n",
       " array([], dtype=float64),\n",
       " array([], dtype=float64),\n",
       " array([], dtype=float64),\n",
       " array([], dtype=float64),\n",
       " array([], dtype=float64),\n",
       " array([], dtype=float64),\n",
       " array([], dtype=float64),\n",
       " array([], dtype=float64),\n",
       " array([], dtype=float64),\n",
       " array([], dtype=float64),\n",
       " array([], dtype=float64),\n",
       " array([], dtype=float64),\n",
       " array([], dtype=float64),\n",
       " array([], dtype=float64),\n",
       " array([], dtype=float64),\n",
       " array([], dtype=float64),\n",
       " array([], dtype=float64),\n",
       " array([], dtype=float64),\n",
       " array([], dtype=float64),\n",
       " array([], dtype=float64),\n",
       " array([], dtype=float64),\n",
       " array([], dtype=float64),\n",
       " array([], dtype=float64),\n",
       " array([], dtype=float64),\n",
       " array([], dtype=float64),\n",
       " array([], dtype=float64),\n",
       " array([], dtype=float64),\n",
       " array([], dtype=float64),\n",
       " array([], dtype=float64),\n",
       " array([], dtype=float64),\n",
       " array([], dtype=float64),\n",
       " array([], dtype=float64),\n",
       " array([], dtype=float64),\n",
       " array([], dtype=float64),\n",
       " array([], dtype=float64),\n",
       " array([], dtype=float64),\n",
       " array([], dtype=float64),\n",
       " array([], dtype=float64),\n",
       " array([], dtype=float64),\n",
       " array([], dtype=float64),\n",
       " array([], dtype=float64),\n",
       " array([], dtype=float64),\n",
       " array([], dtype=float64),\n",
       " array([], dtype=float64),\n",
       " array([], dtype=float64),\n",
       " array([], dtype=float64),\n",
       " array([], dtype=float64),\n",
       " array([], dtype=float64),\n",
       " array([], dtype=float64),\n",
       " array([], dtype=float64),\n",
       " array([], dtype=float64),\n",
       " array([], dtype=float64),\n",
       " array([], dtype=float64),\n",
       " array([], dtype=float64),\n",
       " array([], dtype=float64),\n",
       " array([], dtype=float64),\n",
       " array([], dtype=float64),\n",
       " array([], dtype=float64),\n",
       " array([], dtype=float64),\n",
       " array([], dtype=float64),\n",
       " array([], dtype=float64),\n",
       " array([], dtype=float64),\n",
       " array([], dtype=float64),\n",
       " array([], dtype=float64),\n",
       " array([], dtype=float64),\n",
       " array([], dtype=float64),\n",
       " array([], dtype=float64),\n",
       " array([], dtype=float64),\n",
       " array([], dtype=float64),\n",
       " array([], dtype=float64),\n",
       " array([], dtype=float64),\n",
       " array([], dtype=float64),\n",
       " array([], dtype=float64),\n",
       " array([], dtype=float64),\n",
       " array([], dtype=float64),\n",
       " array([], dtype=float64),\n",
       " array([], dtype=float64),\n",
       " array([], dtype=float64),\n",
       " array([], dtype=float64),\n",
       " array([], dtype=float64),\n",
       " array([], dtype=float64),\n",
       " array([], dtype=float64),\n",
       " array([], dtype=float64),\n",
       " array([], dtype=float64),\n",
       " array([], dtype=float64),\n",
       " array([], dtype=float64),\n",
       " array([], dtype=float64),\n",
       " array([], dtype=float64),\n",
       " array([], dtype=float64),\n",
       " array([], dtype=float64),\n",
       " array([], dtype=float64),\n",
       " array([], dtype=float64),\n",
       " array([], dtype=float64),\n",
       " array([], dtype=float64),\n",
       " array([], dtype=float64),\n",
       " array([], dtype=float64),\n",
       " array([], dtype=float64),\n",
       " array([], dtype=float64),\n",
       " array([], dtype=float64),\n",
       " array([], dtype=float64),\n",
       " array([], dtype=float64),\n",
       " array([], dtype=float64),\n",
       " array([], dtype=float64),\n",
       " array([], dtype=float64),\n",
       " array([], dtype=float64),\n",
       " array([], dtype=float64),\n",
       " array([], dtype=float64),\n",
       " array([], dtype=float64),\n",
       " array([], dtype=float64),\n",
       " array([], dtype=float64),\n",
       " array([], dtype=float64),\n",
       " array([], dtype=float64),\n",
       " array([], dtype=float64),\n",
       " array([], dtype=float64),\n",
       " array([], dtype=float64),\n",
       " array([], dtype=float64),\n",
       " array([], dtype=float64),\n",
       " array([], dtype=float64),\n",
       " array([], dtype=float64),\n",
       " array([], dtype=float64),\n",
       " array([], dtype=float64),\n",
       " array([], dtype=float64),\n",
       " array([], dtype=float64),\n",
       " array([], dtype=float64),\n",
       " array([], dtype=float64),\n",
       " array([], dtype=float64),\n",
       " array([], dtype=float64),\n",
       " array([], dtype=float64),\n",
       " array([], dtype=float64),\n",
       " array([], dtype=float64),\n",
       " array([], dtype=float64),\n",
       " array([], dtype=float64),\n",
       " array([], dtype=float64),\n",
       " array([], dtype=float64),\n",
       " array([], dtype=float64),\n",
       " array([], dtype=float64),\n",
       " array([], dtype=float64),\n",
       " array([], dtype=float64),\n",
       " array([], dtype=float64),\n",
       " array([], dtype=float64),\n",
       " array([], dtype=float64),\n",
       " array([], dtype=float64),\n",
       " array([], dtype=float64),\n",
       " array([], dtype=float64),\n",
       " array([], dtype=float64),\n",
       " array([], dtype=float64),\n",
       " array([], dtype=float64),\n",
       " array([], dtype=float64),\n",
       " array([], dtype=float64),\n",
       " array([], dtype=float64),\n",
       " array([], dtype=float64),\n",
       " array([], dtype=float64),\n",
       " array([], dtype=float64),\n",
       " array([], dtype=float64),\n",
       " array([], dtype=float64),\n",
       " array([], dtype=float64),\n",
       " array([], dtype=float64),\n",
       " array([], dtype=float64),\n",
       " array([], dtype=float64),\n",
       " array([], dtype=float64),\n",
       " array([], dtype=float64),\n",
       " array([], dtype=float64),\n",
       " array([], dtype=float64),\n",
       " array([], dtype=float64),\n",
       " array([], dtype=float64),\n",
       " array([], dtype=float64),\n",
       " array([], dtype=float64),\n",
       " array([], dtype=float64),\n",
       " array([], dtype=float64),\n",
       " array([], dtype=float64),\n",
       " array([], dtype=float64),\n",
       " array([], dtype=float64),\n",
       " array([], dtype=float64),\n",
       " array([], dtype=float64),\n",
       " array([], dtype=float64),\n",
       " array([], dtype=float64),\n",
       " array([], dtype=float64),\n",
       " array([], dtype=float64),\n",
       " array([], dtype=float64),\n",
       " array([], dtype=float64),\n",
       " array([], dtype=float64),\n",
       " array([], dtype=float64),\n",
       " array([], dtype=float64),\n",
       " array([], dtype=float64),\n",
       " array([], dtype=float64),\n",
       " array([], dtype=float64),\n",
       " array([], dtype=float64),\n",
       " array([], dtype=float64),\n",
       " array([], dtype=float64),\n",
       " array([], dtype=float64),\n",
       " array([], dtype=float64),\n",
       " array([], dtype=float64),\n",
       " array([], dtype=float64),\n",
       " array([], dtype=float64),\n",
       " array([], dtype=float64),\n",
       " array([], dtype=float64),\n",
       " array([], dtype=float64),\n",
       " array([], dtype=float64),\n",
       " array([], dtype=float64),\n",
       " array([], dtype=float64),\n",
       " array([], dtype=float64),\n",
       " array([], dtype=float64),\n",
       " array([], dtype=float64),\n",
       " array([], dtype=float64),\n",
       " array([], dtype=float64),\n",
       " array([], dtype=float64),\n",
       " array([], dtype=float64),\n",
       " array([], dtype=float64),\n",
       " array([], dtype=float64),\n",
       " array([], dtype=float64),\n",
       " array([], dtype=float64),\n",
       " array([], dtype=float64),\n",
       " array([], dtype=float64),\n",
       " array([], dtype=float64),\n",
       " array([], dtype=float64),\n",
       " array([], dtype=float64),\n",
       " array([], dtype=float64),\n",
       " array([], dtype=float64),\n",
       " array([], dtype=float64),\n",
       " array([], dtype=float64),\n",
       " array([], dtype=float64),\n",
       " array([], dtype=float64),\n",
       " array([], dtype=float64),\n",
       " array([], dtype=float64),\n",
       " array([], dtype=float64),\n",
       " array([], dtype=float64),\n",
       " array([], dtype=float64),\n",
       " array([], dtype=float64),\n",
       " array([], dtype=float64),\n",
       " array([], dtype=float64),\n",
       " array([], dtype=float64),\n",
       " array([], dtype=float64),\n",
       " array([], dtype=float64),\n",
       " array([], dtype=float64),\n",
       " array([], dtype=float64),\n",
       " array([], dtype=float64),\n",
       " array([], dtype=float64),\n",
       " array([], dtype=float64),\n",
       " array([], dtype=float64),\n",
       " array([], dtype=float64),\n",
       " array([], dtype=float64),\n",
       " array([], dtype=float64),\n",
       " array([], dtype=float64),\n",
       " array([], dtype=float64),\n",
       " array([], dtype=float64),\n",
       " array([], dtype=float64),\n",
       " array([], dtype=float64),\n",
       " array([], dtype=float64),\n",
       " array([], dtype=float64),\n",
       " array([], dtype=float64),\n",
       " array([], dtype=float64),\n",
       " array([], dtype=float64),\n",
       " array([], dtype=float64),\n",
       " array([], dtype=float64),\n",
       " array([], dtype=float64),\n",
       " array([], dtype=float64),\n",
       " array([], dtype=float64),\n",
       " array([], dtype=float64),\n",
       " array([], dtype=float64),\n",
       " array([], dtype=float64),\n",
       " array([], dtype=float64),\n",
       " array([], dtype=float64),\n",
       " array([], dtype=float64),\n",
       " array([], dtype=float64),\n",
       " array([], dtype=float64),\n",
       " array([], dtype=float64),\n",
       " array([], dtype=float64),\n",
       " array([], dtype=float64),\n",
       " array([], dtype=float64),\n",
       " array([], dtype=float64),\n",
       " array([], dtype=float64),\n",
       " array([], dtype=float64),\n",
       " array([], dtype=float64),\n",
       " array([], dtype=float64),\n",
       " array([], dtype=float64),\n",
       " array([], dtype=float64),\n",
       " array([], dtype=float64),\n",
       " array([], dtype=float64),\n",
       " array([], dtype=float64),\n",
       " array([], dtype=float64),\n",
       " array([], dtype=float64),\n",
       " array([], dtype=float64),\n",
       " array([], dtype=float64),\n",
       " array([], dtype=float64),\n",
       " array([], dtype=float64),\n",
       " array([], dtype=float64),\n",
       " array([], dtype=float64),\n",
       " array([], dtype=float64),\n",
       " array([], dtype=float64),\n",
       " array([], dtype=float64),\n",
       " array([], dtype=float64),\n",
       " array([], dtype=float64),\n",
       " array([], dtype=float64),\n",
       " array([], dtype=float64),\n",
       " array([], dtype=float64),\n",
       " array([], dtype=float64),\n",
       " array([], dtype=float64),\n",
       " array([], dtype=float64),\n",
       " array([], dtype=float64)]"
      ]
     },
     "execution_count": 27,
     "metadata": {},
     "output_type": "execute_result"
    }
   ],
   "source": [
    "[np.fromstring(elem, dtype=float, sep=' ') for elem in x]"
   ]
  },
  {
   "cell_type": "code",
   "execution_count": 35,
   "id": "8c34859a",
   "metadata": {},
   "outputs": [],
   "source": [
    "k = x[0].strip(\"[\").strip(\"]\").split()"
   ]
  },
  {
   "cell_type": "code",
   "execution_count": 37,
   "id": "17042865",
   "metadata": {},
   "outputs": [
    {
     "data": {
      "text/plain": [
       "array([ 2.05783e+02,  2.80000e-02,  4.73922e+02, -3.14100e+00,\n",
       "        1.00000e-03,  6.00000e-03])"
      ]
     },
     "execution_count": 37,
     "metadata": {},
     "output_type": "execute_result"
    }
   ],
   "source": [
    "np.array(k, dtype=float)"
   ]
  },
  {
   "cell_type": "code",
   "execution_count": null,
   "id": "3551681a",
   "metadata": {},
   "outputs": [],
   "source": []
  }
 ],
 "metadata": {
  "kernelspec": {
   "display_name": "Python 3 (ipykernel)",
   "language": "python",
   "name": "python3"
  },
  "language_info": {
   "codemirror_mode": {
    "name": "ipython",
    "version": 3
   },
   "file_extension": ".py",
   "mimetype": "text/x-python",
   "name": "python",
   "nbconvert_exporter": "python",
   "pygments_lexer": "ipython3",
   "version": "3.10.0"
  }
 },
 "nbformat": 4,
 "nbformat_minor": 5
}
